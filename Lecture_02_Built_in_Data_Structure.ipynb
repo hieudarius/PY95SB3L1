{
 "cells": [
  {
   "cell_type": "markdown",
   "metadata": {},
   "source": [
    "# Lecture 02: Build-in Data Structure"
   ]
  },
  {
   "cell_type": "markdown",
   "metadata": {},
   "source": [
    "## Kiểu List"
   ]
  },
  {
   "cell_type": "markdown",
   "metadata": {},
   "source": [
    "### Tổng quan\n",
    "<li>Dùng để chứa 0 hoặc nhiều phần tử dưới chung một tên biến.</li>\n",
    "<li>Các phần tử có sắp thứ tự và được đánh index.</li>\n",
    "<li>Index bắt đầu từ 0 và kết thúc ở n-1.</li>\n",
    "<li>List là <strong>mutable</strong>: tức có thể thêm, sửa, xóa phần tử sau khi được tạo.</li>\n",
    "<li>Khởi tạo list dùng <code>[]</code></li>\n",
    "<li>Các phần tử có thể khác kiểu dữ liệu. List có thể chứa list (nested list).</li>\n",
    "<li>Các phần tử có thể truy xuất qua indexing hoặc slicing.</li>"
   ]
  },
  {
   "cell_type": "markdown",
   "metadata": {},
   "source": [
    "### Khởi-tạo-list"
   ]
  },
  {
   "cell_type": "code",
   "execution_count": null,
   "metadata": {},
   "outputs": [],
   "source": [
    "# Khởi tạo\n",
    "l = [1, 2, 3, 4, 5]\n",
    "print(l)\n",
    "print(type(l))"
   ]
  },
  {
   "cell_type": "markdown",
   "metadata": {},
   "source": [
    "### Indexing"
   ]
  },
  {
   "cell_type": "markdown",
   "metadata": {},
   "source": [
    "\n",
    "<ul>\n",
    "<li>Truy xuất đến 1 phần tử</li>\n",
    "</ul>\n"
   ]
  },
  {
   "cell_type": "code",
   "execution_count": null,
   "metadata": {},
   "outputs": [],
   "source": [
    "# Khởi tạo 1 list các số nguyên\n",
    "l = [1, 2, 3, 4, 5]"
   ]
  },
  {
   "cell_type": "code",
   "execution_count": null,
   "metadata": {},
   "outputs": [],
   "source": [
    "# Truy cập phần tử đầu tiên\n"
   ]
  },
  {
   "cell_type": "code",
   "execution_count": null,
   "metadata": {},
   "outputs": [],
   "source": [
    "# Truy cập phần tử thứ 3\n"
   ]
  },
  {
   "cell_type": "code",
   "execution_count": null,
   "metadata": {},
   "outputs": [],
   "source": [
    "# Truy cập phần tử cuối cùng\n"
   ]
  },
  {
   "cell_type": "code",
   "execution_count": null,
   "metadata": {},
   "outputs": [],
   "source": [
    "# Truy cập phần tử thứ 2 kể từ phần tử cuối cùng\n"
   ]
  },
  {
   "cell_type": "code",
   "execution_count": null,
   "metadata": {},
   "outputs": [],
   "source": [
    "# Truy cập phần tử thứ 3, đổi nó thành 99, in lại list\n"
   ]
  },
  {
   "cell_type": "code",
   "execution_count": null,
   "metadata": {},
   "outputs": [],
   "source": [
    "# Truy cập phần tử thứ 3, đối nó thành string \"Hello\", in lại list\n"
   ]
  },
  {
   "cell_type": "code",
   "execution_count": null,
   "metadata": {},
   "outputs": [],
   "source": [
    "# Truy cập phần tử thứ 3, đối nó thành list [2, 3], in lại list\n"
   ]
  },
  {
   "cell_type": "markdown",
   "metadata": {},
   "source": [
    "### Slicing\n",
    "<li>Truy cập 1 nhóm các phần tử 1 lúc (luôn trả về 1 list)</li>\n",
    "<li>Cú pháp <code>l[start:stop]</code> hoặc <code>l[start:stop:step]</code><ul>\n",
    "<li><code>start</code>: index phần tử đầu tiên (included)</li>\n",
    "<li><code>stop</code>: index phần tử cuối cùng (excluded)</li>\n",
    "<li><code>step</code>: bước nhảy, mặc định là 1</li>"
   ]
  },
  {
   "cell_type": "code",
   "execution_count": null,
   "metadata": {},
   "outputs": [],
   "source": [
    "# Khởi tạo lại list\n",
    "l = [1, 2, 3, 4, 5]\n",
    "print(l)"
   ]
  },
  {
   "cell_type": "code",
   "execution_count": null,
   "metadata": {},
   "outputs": [],
   "source": [
    "# Slice từ đầu đến phần tử thứ 3\n"
   ]
  },
  {
   "cell_type": "code",
   "execution_count": null,
   "metadata": {},
   "outputs": [],
   "source": [
    "# Slice từ phần tử thứ 3 đến cuối\n"
   ]
  },
  {
   "cell_type": "code",
   "execution_count": null,
   "metadata": {},
   "outputs": [],
   "source": [
    "# Slice từ phần tử thứ 2 đến thứ 4\n"
   ]
  },
  {
   "cell_type": "code",
   "execution_count": null,
   "metadata": {},
   "outputs": [],
   "source": [
    "# Slice từ đầu đến cuối (trả về 1 shallow copy)\n"
   ]
  },
  {
   "cell_type": "code",
   "execution_count": null,
   "metadata": {},
   "outputs": [],
   "source": [
    "# Khác nhau gì giữ 2 câu lệnh sau?\n",
    "print(l[0])\n",
    "print(l[0:1])"
   ]
  },
  {
   "cell_type": "code",
   "execution_count": null,
   "metadata": {},
   "outputs": [],
   "source": [
    "# Slice từ đầu đến cuối, nhảy 2 bước\n"
   ]
  },
  {
   "cell_type": "code",
   "execution_count": null,
   "metadata": {},
   "outputs": [],
   "source": [
    "# Slice đảo ngược lại list\n"
   ]
  },
  {
   "cell_type": "code",
   "execution_count": null,
   "metadata": {},
   "outputs": [],
   "source": [
    "# Slice phần tử 2 và 3, và thay nó bằng [99, 100]\n",
    "print(l)\n",
    "\n"
   ]
  },
  {
   "cell_type": "code",
   "execution_count": null,
   "metadata": {},
   "outputs": [],
   "source": [
    "# Slice phần tử 2 đến 4, và thay nó bằng [99, 100, 101, \"Apple\"]\n"
   ]
  },
  {
   "cell_type": "markdown",
   "metadata": {},
   "source": [
    "### Lỗi-out-of-range"
   ]
  },
  {
   "cell_type": "code",
   "execution_count": null,
   "metadata": {},
   "outputs": [],
   "source": [
    "# Khởi tạo lại list\n",
    "l = [1, 2, 3, 4, 5]\n",
    "print(l)"
   ]
  },
  {
   "cell_type": "code",
   "execution_count": null,
   "metadata": {},
   "outputs": [],
   "source": [
    "# Index l[5] sẽ báo lỗi list index out of range vì last index chỉ là 4\n",
    "# Nhưng slice không kiểm tra lỗi này\n",
    "# Nếu stop index truyền vào lớn hơn last index thì sẽ slice đến cuối list\n",
    "print(l[2:1000])"
   ]
  },
  {
   "cell_type": "markdown",
   "metadata": {},
   "source": [
    "### Các-thao-tác-với-list"
   ]
  },
  {
   "cell_type": "markdown",
   "metadata": {},
   "source": [
    "\n",
    "<ul>\n",
    "<li>Đếm số phần tử.</li>\n",
    "<li>Kiểm tra membership.</li>\n",
    "<li>Concatenate.</li>\n",
    "<li>Xóa phần tử.</li>\n",
    "<li>Sắp xếp các phần tử.</li>\n",
    "</ul>\n"
   ]
  },
  {
   "cell_type": "code",
   "execution_count": null,
   "metadata": {},
   "outputs": [],
   "source": [
    "# Khởi tạo list\n",
    "l = [1, 2, 3, 4, 5]\n",
    "print(l)"
   ]
  },
  {
   "cell_type": "code",
   "execution_count": null,
   "metadata": {},
   "outputs": [],
   "source": [
    "# Đếm số lượng phần tử\n"
   ]
  },
  {
   "cell_type": "code",
   "execution_count": null,
   "metadata": {},
   "outputs": [],
   "source": [
    "# Kiểm tra xem một giá trị nào đó có trong list hay không\n",
    "print(l)\n",
    "print(1 in l)\n",
    "print(99 in l)"
   ]
  },
  {
   "cell_type": "code",
   "execution_count": null,
   "metadata": {},
   "outputs": [],
   "source": [
    "## Nối 2 list thành 1 list\n",
    "l2 = [1, -3, 8]\n",
    "\n"
   ]
  },
  {
   "cell_type": "code",
   "execution_count": null,
   "metadata": {},
   "outputs": [],
   "source": [
    "# Tạo một list mới bằng cách replicate phần tử của list có sẵn\n",
    "l = [1, 2]\n",
    "\n"
   ]
  },
  {
   "cell_type": "code",
   "execution_count": null,
   "metadata": {},
   "outputs": [],
   "source": [
    "# Sắp xếp 1 list (nếu được)\n",
    "print(l2)\n"
   ]
  },
  {
   "cell_type": "code",
   "execution_count": null,
   "metadata": {},
   "outputs": [],
   "source": [
    "# delete phần tử thứ 2\n",
    "print(l)\n"
   ]
  },
  {
   "cell_type": "code",
   "execution_count": null,
   "metadata": {},
   "outputs": [],
   "source": [
    "# Unpack list\n",
    "l = [2020, 1, 25]\n"
   ]
  },
  {
   "cell_type": "code",
   "execution_count": null,
   "metadata": {},
   "outputs": [],
   "source": [
    "# Unpack list (3)\n",
    "l = [2020, 1, 25]\n",
    "y, *_ = l\n",
    "\n",
    "print(y)\n",
    "print(_)"
   ]
  },
  {
   "cell_type": "markdown",
   "metadata": {},
   "source": [
    "\n",
    "<h3 id=\"Các-phương-thức-của-list\">Các phương thức của list<a class=\"anchor-link\" href=\"#Các-phương-thức-của-list\">¶</a></h3><ul>\n",
    "<li>Phương thức (method) là các hàm dành riêng cho đối tượng của một kiểu nào đó.</li>\n",
    "<li>Rất nhiều phương thức của list thuộc dạng \"inplace\", tức khi gọi phương thức thông qua tên list, thì effect của action sẽ được reflect vào list mà không cần thông qua phép gán. (Xem ví dụ để rõ thêm)</li>\n",
    "<li>Các phương thức thông dụng:<ul>\n",
    "<li><code>.count()</code></li>\n",
    "<li><code>.index()</code></li>\n",
    "<li><code>.append()</code></li>\n",
    "<li><code>.extend()</code></li>\n",
    "<li><code>.insert()</code></li>\n",
    "<li><code>.pop()</code></li>\n",
    "<li><code>.remove()</code></li>\n",
    "<li><code>.clear()</code></li>\n",
    "<li><code>.sort()</code></li>\n",
    "</ul>\n",
    "</li>\n",
    "</ul>\n"
   ]
  },
  {
   "cell_type": "code",
   "execution_count": null,
   "metadata": {},
   "outputs": [],
   "source": [
    "# Khởi tạo list\n",
    "l = [1, 2, 3, 4, 5]\n",
    "print(l)"
   ]
  },
  {
   "cell_type": "code",
   "execution_count": null,
   "metadata": {},
   "outputs": [],
   "source": [
    "# Đếm số lần xuất hiện của value 1\n"
   ]
  },
  {
   "cell_type": "code",
   "execution_count": null,
   "metadata": {},
   "outputs": [],
   "source": [
    "# Lấy index của value 5 xuất hiện lần đầu\n"
   ]
  },
  {
   "cell_type": "code",
   "execution_count": null,
   "metadata": {},
   "outputs": [],
   "source": [
    "# append phần tử 99 vào cuối list\n"
   ]
  },
  {
   "cell_type": "code",
   "execution_count": null,
   "metadata": {},
   "outputs": [],
   "source": [
    "# extend list [\"A\", \"B\", \"C\"] vào list ban đầu\n"
   ]
  },
  {
   "cell_type": "code",
   "execution_count": null,
   "metadata": {},
   "outputs": [],
   "source": [
    "# insert phần tử 99 vào phan tu 3\n"
   ]
  },
  {
   "cell_type": "code",
   "execution_count": null,
   "metadata": {},
   "outputs": [],
   "source": [
    "# remove phần tử 99 đầu tiên được tìm thấy khỏi list\n"
   ]
  },
  {
   "cell_type": "code",
   "execution_count": null,
   "metadata": {},
   "outputs": [],
   "source": [
    "# pop phần tử cuối cùng, lưu giá trị đó vào biến last_value\n"
   ]
  },
  {
   "cell_type": "code",
   "execution_count": null,
   "metadata": {},
   "outputs": [],
   "source": [
    "# pop phần tử đầu tiên, lưu giá trị đó vào biến first_value\n"
   ]
  },
  {
   "cell_type": "code",
   "execution_count": null,
   "metadata": {},
   "outputs": [],
   "source": [
    "l = []"
   ]
  },
  {
   "cell_type": "code",
   "execution_count": null,
   "metadata": {},
   "outputs": [],
   "source": [
    "# clear list, tức list rỗng []\n"
   ]
  },
  {
   "cell_type": "markdown",
   "metadata": {},
   "source": [
    "## Kiểu-tuple"
   ]
  },
  {
   "cell_type": "markdown",
   "metadata": {},
   "source": [
    "### Tổng quan\n",
    "<li>Tương tự list, nhưng tuple là immutable, nghĩa là một khi được tạo ra thì tuple không thể thay đổi được.</li>\n",
    "<li>Tuy nhiên phần tử của tuple có thể thuộc kiểu tùy ý.</li>\n",
    "<li>Dùng <code>()</code> để khởi tạo tuple hoặc hàm <code>tuple()</code>.</li>"
   ]
  },
  {
   "cell_type": "code",
   "execution_count": null,
   "metadata": {},
   "outputs": [],
   "source": [
    "# Khởi tạo bằng ()\n",
    "t = (1, 2, 3, 4, 5)\n",
    "print(t)\n",
    "print(type(t))\n",
    "\n",
    "# Khởi tạo bằng tuple()\n",
    "t = tuple([1, 2, 3, 4, 5])\n",
    "print(t)\n",
    "print(type(t))\n",
    "\n",
    "# Khởi tạo bằng ,\n",
    "t = 1, 2, 3, 4, 5\n",
    "print(t)\n",
    "print(type(t))"
   ]
  },
  {
   "cell_type": "markdown",
   "metadata": {},
   "source": [
    "### Indexing\n",
    "<li>Truy xuất đến 1 phần tử</li>"
   ]
  },
  {
   "cell_type": "code",
   "execution_count": null,
   "metadata": {},
   "outputs": [],
   "source": [
    "# Khởi tạo 1 tuple các số nguyên\n",
    "t = (1, 2, 3, 4, 5)"
   ]
  },
  {
   "cell_type": "code",
   "execution_count": null,
   "metadata": {},
   "outputs": [],
   "source": [
    "# Truy cập phần tử đầu tiên\n"
   ]
  },
  {
   "cell_type": "code",
   "execution_count": null,
   "metadata": {},
   "outputs": [],
   "source": [
    "# Truy cập phần tử cuối cùng\n"
   ]
  },
  {
   "cell_type": "code",
   "execution_count": null,
   "metadata": {},
   "outputs": [],
   "source": [
    "# Truy cập phần tử thứ 2 kể từ phần tử cuối cùng\n"
   ]
  },
  {
   "cell_type": "code",
   "execution_count": null,
   "metadata": {},
   "outputs": [],
   "source": [
    "# Truy cập phần tử thứ 3, đổi nó thành 99, in lại tuple\n",
    "# Báo lỗi: 'tuple' object does not support item assignment\n",
    "# vì tuple là immutable\n",
    "# t[2] = 99"
   ]
  },
  {
   "cell_type": "markdown",
   "metadata": {},
   "source": [
    "### Slicing\n",
    "<li>Truy cập 1 nhóm các phần tử 1 lúc (luôn trả về 1 tuple)</li>\n",
    "<li>Cú pháp <code>l[start:stop]</code> hoặc <code>l[start:stop:step]</code><ul>\n",
    "<li><code>start</code>: index phần tử đầu tiên (included)</li>\n",
    "<li><code>stop</code>: index phần tử cuối cùng (excluded)</li>\n",
    "<li><code>step</code>: bước nhảy, mặc định là 1</li>"
   ]
  },
  {
   "cell_type": "code",
   "execution_count": null,
   "metadata": {},
   "outputs": [],
   "source": [
    "# Khởi tạo lại tuple\n",
    "t = (1, 2, 3, 4, 5)\n",
    "print(t)"
   ]
  },
  {
   "cell_type": "code",
   "execution_count": null,
   "metadata": {},
   "outputs": [],
   "source": [
    "# Slice từ đầu đến phần tử thứ 3\n"
   ]
  },
  {
   "cell_type": "code",
   "execution_count": null,
   "metadata": {},
   "outputs": [],
   "source": [
    "# Slice từ phần tử thứ 3 đến cuối\n"
   ]
  },
  {
   "cell_type": "code",
   "execution_count": null,
   "metadata": {},
   "outputs": [],
   "source": [
    "# Slice từ phần tử thứ 2 đến thứ 4\n"
   ]
  },
  {
   "cell_type": "code",
   "execution_count": null,
   "metadata": {},
   "outputs": [],
   "source": [
    "# Khác nhau gì giữ 2 câu lệnh sau?\n",
    "print(t[0])\n",
    "print(t[:1])"
   ]
  },
  {
   "cell_type": "code",
   "execution_count": null,
   "metadata": {},
   "outputs": [],
   "source": [
    "# Slice từ đầu đến cuối, nhảy 2 bước\n"
   ]
  },
  {
   "cell_type": "code",
   "execution_count": null,
   "metadata": {},
   "outputs": [],
   "source": [
    "# Slice đảo ngược lại tuple\n"
   ]
  },
  {
   "cell_type": "code",
   "execution_count": null,
   "metadata": {},
   "outputs": [],
   "source": [
    "# Slice phần tử 2 đến 4, và thay nó bằng [99, 100]\n",
    "# Báo lỗi vì tuple là immutable\n",
    "# t[1:3] = [99, 100]"
   ]
  },
  {
   "cell_type": "markdown",
   "metadata": {},
   "source": [
    "### Lỗi-out-of-range"
   ]
  },
  {
   "cell_type": "code",
   "execution_count": null,
   "metadata": {},
   "outputs": [],
   "source": [
    "# Khởi tạo lại tuple\n",
    "t = (1, 2, 3, 4, 5)\n",
    "print(t)"
   ]
  },
  {
   "cell_type": "code",
   "execution_count": null,
   "metadata": {},
   "outputs": [],
   "source": [
    "# Index t[5] sẽ báo lỗi tuple index out of range vì last index chỉ là 4\n",
    "# Nhưng slice không kiểm tra lỗi này\n",
    "# Nếu stop index truyền vào lớn hơn last index thì sẽ slice đến cuối tuple\n",
    "print(t[2:1000])"
   ]
  },
  {
   "cell_type": "markdown",
   "metadata": {},
   "source": [
    "### Các-thao-tác-với-tuple"
   ]
  },
  {
   "cell_type": "markdown",
   "metadata": {},
   "source": [
    "\n",
    "<ul>\n",
    "<li>Tương tự như với list.</li>\n",
    "<li>Tuy nhiên, tuple là immutable nên không có thao tác xóa phần tử.</li>\n",
    "</ul>\n"
   ]
  },
  {
   "cell_type": "code",
   "execution_count": null,
   "metadata": {},
   "outputs": [],
   "source": [
    "# Khởi tạo list\n",
    "t = (1, 2, 3, 4, 5)\n",
    "print(t)"
   ]
  },
  {
   "cell_type": "code",
   "execution_count": null,
   "metadata": {},
   "outputs": [],
   "source": [
    "# Đếm số lượng phần tử\n"
   ]
  },
  {
   "cell_type": "code",
   "execution_count": null,
   "metadata": {},
   "outputs": [],
   "source": [
    "# Kiểm tra xem một giá trị nào đó có trong tuple hay không\n"
   ]
  },
  {
   "cell_type": "code",
   "execution_count": null,
   "metadata": {},
   "outputs": [],
   "source": [
    "## Nối 2 tuple thành 1\n",
    "t2 = (1, -3, 8)\n"
   ]
  },
  {
   "cell_type": "code",
   "execution_count": null,
   "metadata": {},
   "outputs": [],
   "source": [
    "# Tạo một tuple mới bằng cách replicate phần tử của tuple có sẵn\n",
    "t = (1, 2)\n"
   ]
  },
  {
   "cell_type": "code",
   "execution_count": null,
   "metadata": {},
   "outputs": [],
   "source": [
    "# Sắp xếp 1 tuple (nếu được)\n",
    "# Để ý kiểu trả về\n"
   ]
  },
  {
   "cell_type": "code",
   "execution_count": null,
   "metadata": {},
   "outputs": [],
   "source": [
    "# delete phần tử thứ 2 (sẽ báo lỗi)\n",
    "# del t[1]"
   ]
  },
  {
   "cell_type": "code",
   "execution_count": null,
   "metadata": {},
   "outputs": [],
   "source": [
    "# Unpack tuple\n",
    "t = (2020, 1, 25)\n"
   ]
  },
  {
   "cell_type": "code",
   "execution_count": null,
   "metadata": {},
   "outputs": [],
   "source": [
    "# Unpack tuple (2)\n",
    "t = (2020, 1, 25)\n",
    "y, m, _ = t\n",
    "\n",
    "print(y)\n",
    "print(m)\n",
    "print(_)"
   ]
  },
  {
   "cell_type": "code",
   "execution_count": null,
   "metadata": {},
   "outputs": [],
   "source": [
    "# Unpack tuple (3)\n",
    "t = (2020, 1, 25)\n",
    "y, *_ = t\n",
    "\n",
    "print(y)\n",
    "print(_)"
   ]
  },
  {
   "cell_type": "code",
   "execution_count": null,
   "metadata": {},
   "outputs": [],
   "source": [
    "# Dùng tuple để swap biến\n",
    "a = 10\n",
    "b = 5\n",
    "\n"
   ]
  },
  {
   "cell_type": "markdown",
   "metadata": {},
   "source": [
    "### Các-phương-thức-của-tuple"
   ]
  },
  {
   "cell_type": "markdown",
   "metadata": {},
   "source": [
    "\n",
    "<ul>\n",
    "<li>Tuple sẽ không có các phương thức inplace giống như list vì là immutable.</li>\n",
    "</ul>\n"
   ]
  },
  {
   "cell_type": "code",
   "execution_count": null,
   "metadata": {},
   "outputs": [],
   "source": [
    "# Khởi tạo list\n",
    "t = (1, 2, 3, 4, 5, 1)\n",
    "print(t)"
   ]
  },
  {
   "cell_type": "code",
   "execution_count": null,
   "metadata": {},
   "outputs": [],
   "source": [
    "# Đếm số lần xuất hiện của value 1\n"
   ]
  },
  {
   "cell_type": "code",
   "execution_count": null,
   "metadata": {},
   "outputs": [],
   "source": [
    "# Lấy index của value 5 xuất hiện lần đầu\n"
   ]
  },
  {
   "cell_type": "markdown",
   "metadata": {},
   "source": [
    "## Kiểu-str"
   ]
  },
  {
   "cell_type": "markdown",
   "metadata": {},
   "source": [
    "### Tổng quan\n",
    "<li>Dùng để biểu diễn immutable sequence của các ký tự Unicode (Unicode characters).</li>\n",
    "<li><code>str</code> có thể tạo bằng cách dùng <code>'</code>, <code>\"</code>, <code>'''</code>, hoặc <code>\"\"\"</code>.</li>\n",
    "<li>Triple quotes có thể span trên nhiều dòng, và bảo tồn các khoảng trắng (space, tab, new line).</li>\n",
    "<li><code>str</code> cũng có thể tạo bằng cách dùng hàm <code>str()</code>.</li>"
   ]
  },
  {
   "cell_type": "markdown",
   "metadata": {},
   "source": [
    "### Khởi-tạo"
   ]
  },
  {
   "cell_type": "code",
   "execution_count": null,
   "metadata": {},
   "outputs": [],
   "source": [
    "# Khởi tạo dùng '\n",
    "s = 'Hello'\n",
    "\n",
    "print(s)\n",
    "print(type(s))"
   ]
  },
  {
   "cell_type": "markdown",
   "metadata": {},
   "source": [
    "### Các thao tác với str\n",
    "<li>Các thao tác với <code>str</code> cũng tương tự như với <code>tuple</code>, ngoại trừ việc indexing tương đồng với slicing 1 phần tử.</li>"
   ]
  },
  {
   "cell_type": "markdown",
   "metadata": {},
   "source": [
    "\n",
    "<h4 id=\"VD1:-Index,-slice,-concate,-replicate\">VD1: Index, slice, concate, replicate<a class=\"anchor-link\" href=\"#VD1:-Index,-slice,-concate,-replicate\">¶</a></h4>\n"
   ]
  },
  {
   "cell_type": "code",
   "execution_count": 8,
   "metadata": {},
   "outputs": [],
   "source": [
    "# Khởi tạo string\n",
    "s = \"Hello World!\""
   ]
  },
  {
   "cell_type": "code",
   "execution_count": null,
   "metadata": {},
   "outputs": [],
   "source": [
    "# Index từ đầu đến cuối\n"
   ]
  },
  {
   "cell_type": "code",
   "execution_count": null,
   "metadata": {},
   "outputs": [],
   "source": [
    "# Slice 4 ký tự đầu\n"
   ]
  },
  {
   "cell_type": "code",
   "execution_count": null,
   "metadata": {},
   "outputs": [],
   "source": [
    "# Slice đảo ngược string\n",
    "s = \"Hello\"\n"
   ]
  },
  {
   "cell_type": "code",
   "execution_count": null,
   "metadata": {},
   "outputs": [],
   "source": [
    "# Nối hai string\n",
    "s1 = \"Hello\"\n",
    "s2 = \" World\"\n"
   ]
  },
  {
   "cell_type": "code",
   "execution_count": null,
   "metadata": {},
   "outputs": [],
   "source": [
    "# Replicate một string\n",
    "s = \"Hello\"\n",
    "\n"
   ]
  },
  {
   "cell_type": "code",
   "execution_count": null,
   "metadata": {},
   "outputs": [],
   "source": [
    "# Đếm số ký tự\n",
    "s = \"Hello\"\n",
    "\n"
   ]
  },
  {
   "cell_type": "code",
   "execution_count": null,
   "metadata": {},
   "outputs": [],
   "source": [
    "# Đếm số lần xuất hiện của ký tự\n",
    "s = \"Hello\"\n",
    "\n"
   ]
  },
  {
   "cell_type": "markdown",
   "metadata": {},
   "source": [
    "\n",
    "<h4 id=\"VD3:-Sắp-xếp\">VD2: Sắp xếp<a class=\"anchor-link\" href=\"#VD3:-Sắp-xếp\">¶</a></h4>\n"
   ]
  },
  {
   "cell_type": "code",
   "execution_count": 1,
   "metadata": {},
   "outputs": [
    {
     "name": "stdout",
     "output_type": "stream",
     "text": [
      "['H', 'e', 'l', 'l', 'o']\n",
      "['o', 'l', 'l', 'e', 'H']\n"
     ]
    }
   ],
   "source": [
    "s = \"Hello\"\n",
    "\n"
   ]
  },
  {
   "cell_type": "markdown",
   "metadata": {},
   "source": [
    "### String-methods"
   ]
  },
  {
   "cell_type": "markdown",
   "metadata": {},
   "source": [
    "\n",
    "<ul>\n",
    "<li>Đếm số phần tử.</li>\n",
    "<li>Kiểm tra membership.</li>\n",
    "<li>Concatenate.</li>\n",
    "<li>Xóa phần tử.</li>\n",
    "<li>Sắp xếp các phần tử.</li>\n",
    "</ul>\n"
   ]
  },
  {
   "cell_type": "markdown",
   "metadata": {},
   "source": [
    "\n",
    "<h4 id=\"VD1:-Liên-qua-đến-case\">VD1: Liên qua đến case<a class=\"anchor-link\" href=\"#VD1:-Liên-qua-đến-case\">¶</a></h4>\n"
   ]
  },
  {
   "cell_type": "code",
   "execution_count": null,
   "metadata": {},
   "outputs": [],
   "source": [
    "# Khởi tạo một string\n",
    "s = \"Python is fUn.\"\n",
    "print(s)"
   ]
  },
  {
   "cell_type": "code",
   "execution_count": null,
   "metadata": {},
   "outputs": [],
   "source": [
    "# Đổi thành chữ hoa\n"
   ]
  },
  {
   "cell_type": "code",
   "execution_count": null,
   "metadata": {},
   "outputs": [],
   "source": [
    "# Đổi thành chữ thường\n"
   ]
  },
  {
   "cell_type": "code",
   "execution_count": null,
   "metadata": {},
   "outputs": [],
   "source": [
    "# Viết hoa chữ cái đầu câu\n"
   ]
  },
  {
   "cell_type": "code",
   "execution_count": null,
   "metadata": {},
   "outputs": [],
   "source": [
    "# Viết hoa chữ cái mỗi từ\n"
   ]
  },
  {
   "cell_type": "code",
   "execution_count": null,
   "metadata": {},
   "outputs": [],
   "source": [
    "# Swap case\n"
   ]
  },
  {
   "cell_type": "code",
   "execution_count": null,
   "metadata": {},
   "outputs": [],
   "source": [
    "# Kiểm tra có phải các ký tự đều là lowercase\n",
    "# tương tự cho upper, title, capitalize\n"
   ]
  },
  {
   "cell_type": "markdown",
   "metadata": {},
   "source": [
    "\n",
    "<h4 id=\"VD2:-Kiểm-tra-substring\">VD2: Kiểm tra substring<a class=\"anchor-link\" href=\"#VD2:-Kiểm-tra-substring\">¶</a></h4>\n"
   ]
  },
  {
   "cell_type": "code",
   "execution_count": null,
   "metadata": {},
   "outputs": [],
   "source": [
    "# Kiểm tra string có BẮT ĐẦU với substring nào đó\n"
   ]
  },
  {
   "cell_type": "code",
   "execution_count": null,
   "metadata": {},
   "outputs": [],
   "source": [
    "# Kiểm tra string có KẾT THÚC với substring nào đó\n"
   ]
  },
  {
   "cell_type": "code",
   "execution_count": null,
   "metadata": {},
   "outputs": [],
   "source": [
    "# Kiểm tra string CHỨA substring nào đó\n"
   ]
  },
  {
   "cell_type": "markdown",
   "metadata": {},
   "source": [
    "\n",
    "<h4 id=\"VD3:-Tìm-kiếm-trong-string\">VD3: Tìm kiếm trong string<a class=\"anchor-link\" href=\"#VD3:-Tìm-kiếm-trong-string\">¶</a></h4><ul>\n",
    "<li>Dùng method <code>.find()</code> hoặc <code>.rfind()</code>. Nếu không tìm thấy, return <code>-1</code>.</li>\n",
    "<li>Ngoài ra có thể dùng <code>.index()</code> hoặc <code>.rindex()</code>. Hai hàm này tương tự <code>.find()</code>/<code>.rfind()</code>, khác ở điểm nếu không tìm thấy sẽ raise <code>ValueError</code> thay vì return <code>-1</code>.</li>\n",
    "</ul>\n"
   ]
  },
  {
   "cell_type": "code",
   "execution_count": null,
   "metadata": {},
   "outputs": [],
   "source": [
    "# Tìm index của substring đầu tiên (từ trái qua phải)\n"
   ]
  },
  {
   "cell_type": "code",
   "execution_count": null,
   "metadata": {},
   "outputs": [],
   "source": [
    "# Tìm index của substring đầu tiên (từ phải qua trái)\n"
   ]
  },
  {
   "cell_type": "code",
   "execution_count": null,
   "metadata": {},
   "outputs": [],
   "source": [
    "print(s.find(\"l\"))\n",
    "print(s.rfind(\"l\"))"
   ]
  },
  {
   "cell_type": "markdown",
   "metadata": {},
   "source": [
    "\n",
    "<h4 id=\"VD4:-Phương-thức-với-khoảng-trắng\">VD4: Phương thức với khoảng trắng<a class=\"anchor-link\" href=\"#VD7:-Phương-thức-với-khoảng-trắng\">¶</a></h4>\n"
   ]
  },
  {
   "cell_type": "code",
   "execution_count": null,
   "metadata": {},
   "outputs": [],
   "source": [
    "# Kiểm tra string chỉ chứa khoảng trắng (space, tab, newline)\n",
    "s = \"\"\"\n",
    " \\t\\t\n",
    "     \\t\n",
    "\"\"\"\n",
    "\n"
   ]
  },
  {
   "cell_type": "code",
   "execution_count": null,
   "metadata": {},
   "outputs": [],
   "source": [
    "# Bỏ khoảng trắng thừa\n",
    "s = \"    Hello    World      \"\n",
    "print(s)\n",
    "print(len(s))\n",
    "\n",
    "# Bỏ bên trái\n",
    "\n",
    "\n",
    "# Bỏ bên phải\n",
    "\n",
    "\n",
    "# Bỏ bên 2 bên\n"
   ]
  },
  {
   "cell_type": "markdown",
   "metadata": {},
   "source": [
    "\n",
    "<h4 id=\"VD9:-Phân-tách-strings\">VD5: Phân tách strings<a class=\"anchor-link\" href=\"#VD9:-Phân-tách-strings\">¶</a></h4>\n"
   ]
  },
  {
   "cell_type": "code",
   "execution_count": null,
   "metadata": {},
   "outputs": [],
   "source": [
    "# Phân tách thành các substring dựa trên ký tự phân tách\n",
    "s = \"This is a text string\"\n",
    "\n"
   ]
  },
  {
   "cell_type": "code",
   "execution_count": null,
   "metadata": {},
   "outputs": [],
   "source": [
    "# Partition string thành 3 phần\n",
    "# - Trước separator\n",
    "# - separator itself\n",
    "# - Sau separator\n",
    "s = \"Name: Barack Obama\"\n",
    "\n"
   ]
  },
  {
   "cell_type": "code",
   "execution_count": null,
   "metadata": {},
   "outputs": [],
   "source": [
    "# Nối nhiều string con thành 1 string (join)\n",
    "# Lưu ý: elements của list/tuple phải là string type\n",
    "\n",
    "words = [\"This\", \"is\", \"a\", \"text\", \"string\"]\n"
   ]
  },
  {
   "cell_type": "markdown",
   "metadata": {},
   "source": [
    "### Formatted-strings\n",
    "<li>Đọc thêm: <a href=\"https://pyformat.info/\">https://pyformat.info/</a></li>"
   ]
  },
  {
   "cell_type": "code",
   "execution_count": 63,
   "metadata": {},
   "outputs": [
    {
     "name": "stdout",
     "output_type": "stream",
     "text": [
      "Jack is from New York\n"
     ]
    }
   ],
   "source": [
    "# Format thông thường\n",
    "name = \"Jack\"\n",
    "city = \"New York\"\n",
    "\n",
    "print(\"{} is from {}\".format(name, city))"
   ]
  },
  {
   "cell_type": "code",
   "execution_count": 2,
   "metadata": {},
   "outputs": [
    {
     "name": "stdout",
     "output_type": "stream",
     "text": [
      "5 times 5 is equal to 25\n"
     ]
    }
   ],
   "source": [
    "# Format khi một biến được dùng lại nhiều lần\n",
    "number = 5\n",
    "\n",
    "print(\"{0} times {0} is equal to {1}\".format(number, number ** 2))"
   ]
  },
  {
   "cell_type": "code",
   "execution_count": 3,
   "metadata": {},
   "outputs": [
    {
     "name": "stdout",
     "output_type": "stream",
     "text": [
      "Number of male students:         20\n",
      "Number of female students:         30\n",
      "Percetage of male students:       40.0%\n"
     ]
    }
   ],
   "source": [
    "# Padding and alignment\n",
    "# > Aligned to the right\n",
    "# < Aligned to the left\n",
    "# ^ Centered\n",
    "\n",
    "male = 20\n",
    "female = 30\n",
    "total = male + female\n",
    "percent_male = round(male * 100 / total, 2)\n",
    "\n",
    "print(\"Number of male students: {:>10}\".format(male))\n",
    "print(\"Number of female students: {:>10}\".format(female))\n",
    "print(\"Percetage of male students: {:>10}%\".format(percent_male))"
   ]
  },
  {
   "cell_type": "code",
   "execution_count": 4,
   "metadata": {},
   "outputs": [
    {
     "name": "stdout",
     "output_type": "stream",
     "text": [
      "Barra\n"
     ]
    }
   ],
   "source": [
    "# Truncate long strings\n",
    "name = \"Barrack Very Long Obama\"\n",
    "print(\"{:.5}\".format(name))"
   ]
  },
  {
   "cell_type": "code",
   "execution_count": 5,
   "metadata": {},
   "outputs": [
    {
     "name": "stdout",
     "output_type": "stream",
     "text": [
      "Month 1: 05\n",
      "Month 2: 12\n"
     ]
    }
   ],
   "source": [
    "# Format số nguyên\n",
    "month_1 = 5\n",
    "month_2 = 12\n",
    "\n",
    "print(\"Month 1: {:02d}\".format(month_1))\n",
    "print(\"Month 2: {:02d}\".format(month_2))"
   ]
  },
  {
   "cell_type": "code",
   "execution_count": 7,
   "metadata": {},
   "outputs": [
    {
     "name": "stdout",
     "output_type": "stream",
     "text": [
      "3.33\n"
     ]
    }
   ],
   "source": [
    "# Format số thực\n",
    "print(\"{:.2f}\".format(10 / 3))"
   ]
  },
  {
   "cell_type": "markdown",
   "metadata": {},
   "source": [
    "\n",
    "<h2 id=\"1.-Kiểu-dict\">4. Kiểu <code>dict</code><a class=\"anchor-link\" href=\"#1.-Kiểu-dict\">¶</a></h2>\n"
   ]
  },
  {
   "cell_type": "markdown",
   "metadata": {},
   "source": [
    "### Tổng quan\n",
    "<li>Dùng để lưu data mà các elements có dạng <code>key: value</code>.</li>\n",
    "<li>Các phần tử không được sắp thứ tự và vì vậy không có index.</li>\n",
    "<li>Các phần tử được truy xuất qua <code>key</code>.</li>\n",
    "<li>Các key phải unique (không được trùng nhau) và thuộc kiểu <strong>immutable</strong> (VD: số, str, tuple)</li>\n",
    "<li>Value thì có thể thuộc kiểu tùy ý.</li>\n",
    "<li>Dictionary là <strong>mutable</strong></li>\n",
    "<li>Khởi tạo dict dùng <code>{}</code> hoặc hàm <code>dict()</code></li>\n",
    "<li>Dict có thể nest tùy ý.</li>\n",
    "<li>Lưu ý:<ul>\n",
    "<li>Không nên dùng <code>float</code> để làm key vì máy tính lưu <code>float</code> ở dạng xấp xỉ.</li>"
   ]
  },
  {
   "cell_type": "markdown",
   "metadata": {},
   "source": [
    "### Khởi-tạo-dict"
   ]
  },
  {
   "cell_type": "code",
   "execution_count": 8,
   "metadata": {},
   "outputs": [
    {
     "name": "stdout",
     "output_type": "stream",
     "text": [
      "{'name': 'Jack', 'country': 'US', 'age': 20}\n",
      "<class 'dict'>\n"
     ]
    }
   ],
   "source": [
    "# Khởi tạo dùng {}\n",
    "d = {\n",
    "    \"name\": \"Jack\",\n",
    "    \"country\": \"US\",\n",
    "    \"age\": 20\n",
    "}\n",
    "\n",
    "print(d)\n",
    "print(type(d))"
   ]
  },
  {
   "cell_type": "code",
   "execution_count": 9,
   "metadata": {},
   "outputs": [
    {
     "name": "stdout",
     "output_type": "stream",
     "text": [
      "{'name': 'Jack', 'country': 'US', 'age': 20}\n",
      "<class 'dict'>\n"
     ]
    }
   ],
   "source": [
    "# Khởi tạo dùng dict\n",
    "d = dict(\n",
    "    name=\"Jack\",\n",
    "    country=\"US\",\n",
    "    age=20\n",
    ")\n",
    "\n",
    "print(d)\n",
    "print(type(d))"
   ]
  },
  {
   "cell_type": "code",
   "execution_count": 10,
   "metadata": {},
   "outputs": [
    {
     "name": "stdout",
     "output_type": "stream",
     "text": [
      "{'name': 'Jack', 'country': 'US', 'age': 20}\n",
      "<class 'dict'>\n"
     ]
    }
   ],
   "source": [
    "# Khởi tạo có key trùng, giá trị ứng với key cuối sẽ được giữ lại\n",
    "d = {\n",
    "    \"name\": \"John\",\n",
    "    \"country\": \"US\",\n",
    "    \"age\": 20,\n",
    "    \"name\": \"Jack\"\n",
    "}\n",
    "\n",
    "print(d)\n",
    "print(type(d))"
   ]
  },
  {
   "cell_type": "code",
   "execution_count": 11,
   "metadata": {},
   "outputs": [
    {
     "name": "stdout",
     "output_type": "stream",
     "text": [
      "[['name', 'Jack'], ['country', 'US'], ['age', 20]]\n",
      "{'name': 'Jack', 'country': 'US', 'age': 20}\n"
     ]
    }
   ],
   "source": [
    "# Khởi tạo từ list/tuple\n",
    "l = [[\"name\", \"Jack\"], [\"country\", \"US\"], [\"age\", 20]]\n",
    "d = dict(l)\n",
    "\n",
    "print(l)\n",
    "print(d)"
   ]
  },
  {
   "cell_type": "code",
   "execution_count": 12,
   "metadata": {},
   "outputs": [
    {
     "name": "stdout",
     "output_type": "stream",
     "text": [
      "{'name': 'Jack', 'country': 'US', 'age': 20}\n"
     ]
    }
   ],
   "source": [
    "# Khởi tạo dùng zip của list/tuple\n",
    "# Khởi tạo từ list/tuple\n",
    "keys = [\"name\", \"country\", \"age\"]\n",
    "values = [\"Jack\", \"US\", 20]\n",
    "d = dict(zip(keys, values))\n",
    "\n",
    "print(d)"
   ]
  },
  {
   "cell_type": "markdown",
   "metadata": {},
   "source": [
    "### Các-thao-tác-cơ-bản"
   ]
  },
  {
   "cell_type": "code",
   "execution_count": 13,
   "metadata": {},
   "outputs": [
    {
     "name": "stdout",
     "output_type": "stream",
     "text": [
      "{'name': 'Jack', 'country': 'US', 'age': 20}\n"
     ]
    }
   ],
   "source": [
    "# Khởi tạo\n",
    "d = {\n",
    "    \"name\": \"Jack\",\n",
    "    \"country\": \"US\",\n",
    "    \"age\": 20\n",
    "}\n",
    "\n",
    "print(d)"
   ]
  },
  {
   "cell_type": "code",
   "execution_count": 14,
   "metadata": {},
   "outputs": [
    {
     "data": {
      "text/plain": [
       "3"
      ]
     },
     "execution_count": 14,
     "metadata": {},
     "output_type": "execute_result"
    }
   ],
   "source": [
    "# Đếm số lượng phần tử\n",
    "len(d)"
   ]
  },
  {
   "cell_type": "code",
   "execution_count": 15,
   "metadata": {},
   "outputs": [
    {
     "data": {
      "text/plain": [
       "dict_keys(['name', 'country', 'age'])"
      ]
     },
     "execution_count": 15,
     "metadata": {},
     "output_type": "execute_result"
    }
   ],
   "source": [
    "# Lấy list các key\n",
    "d.keys()"
   ]
  },
  {
   "cell_type": "code",
   "execution_count": 17,
   "metadata": {},
   "outputs": [
    {
     "name": "stdout",
     "output_type": "stream",
     "text": [
      "Jack\n"
     ]
    },
    {
     "ename": "KeyError",
     "evalue": "'job'",
     "output_type": "error",
     "traceback": [
      "\u001b[0;31m---------------------------------------------------------------------------\u001b[0m",
      "\u001b[0;31mKeyError\u001b[0m                                  Traceback (most recent call last)",
      "\u001b[0;32m<ipython-input-17-0309350fdb3f>\u001b[0m in \u001b[0;36m<module>\u001b[0;34m\u001b[0m\n\u001b[1;32m      4\u001b[0m \u001b[0mprint\u001b[0m\u001b[0;34m(\u001b[0m\u001b[0md\u001b[0m\u001b[0;34m[\u001b[0m\u001b[0;34m\"name\"\u001b[0m\u001b[0;34m]\u001b[0m\u001b[0;34m)\u001b[0m\u001b[0;34m\u001b[0m\u001b[0;34m\u001b[0m\u001b[0m\n\u001b[1;32m      5\u001b[0m \u001b[0;34m\u001b[0m\u001b[0m\n\u001b[0;32m----> 6\u001b[0;31m \u001b[0md\u001b[0m\u001b[0;34m[\u001b[0m\u001b[0;34m\"job\"\u001b[0m\u001b[0;34m]\u001b[0m \u001b[0;31m# KeyError\u001b[0m\u001b[0;34m\u001b[0m\u001b[0;34m\u001b[0m\u001b[0m\n\u001b[0m",
      "\u001b[0;31mKeyError\u001b[0m: 'job'"
     ]
    }
   ],
   "source": [
    "# Truy xuất phần tử thông qua key\n",
    "# Nếu key không tồn tại, sẽ raise KeyError\n",
    "\n",
    "print(d[\"name\"])\n",
    "\n",
    "d[\"job\"] # KeyError"
   ]
  },
  {
   "cell_type": "code",
   "execution_count": 19,
   "metadata": {},
   "outputs": [
    {
     "data": {
      "text/plain": [
       "{'name': 'Jack', 'country': 'US', 'age': 20, 'education': 'DH'}"
      ]
     },
     "execution_count": 19,
     "metadata": {},
     "output_type": "execute_result"
    }
   ],
   "source": [
    "# Thêm key mới\n",
    "\n",
    "d['education'] = 'DH'\n",
    "d"
   ]
  },
  {
   "cell_type": "code",
   "execution_count": 21,
   "metadata": {},
   "outputs": [
    {
     "data": {
      "text/plain": [
       "{'name': 'Jack', 'country': 'US', 'age': 20, 'education': 'CH'}"
      ]
     },
     "execution_count": 21,
     "metadata": {},
     "output_type": "execute_result"
    }
   ],
   "source": [
    "# Truy xuất và sửa\n",
    "\n",
    "d['education'] = 'CH'\n",
    "d"
   ]
  },
  {
   "cell_type": "code",
   "execution_count": 24,
   "metadata": {},
   "outputs": [
    {
     "data": {
      "text/plain": [
       "{'name': 'Jack', 'country': 'US', 'age': 20}"
      ]
     },
     "execution_count": 24,
     "metadata": {},
     "output_type": "execute_result"
    }
   ],
   "source": [
    "# Xóa element\n",
    "del d['education']\n",
    "d"
   ]
  },
  {
   "cell_type": "code",
   "execution_count": 27,
   "metadata": {},
   "outputs": [
    {
     "name": "stdout",
     "output_type": "stream",
     "text": [
      "{'name': 'Jack', 'age': 20}\n"
     ]
    },
    {
     "data": {
      "text/plain": [
       "{'age': 20}"
      ]
     },
     "execution_count": 27,
     "metadata": {},
     "output_type": "execute_result"
    }
   ],
   "source": [
    "# Pop value by key\n",
    "# Nếu key không tồn tại sẽ pop giá trị mặc định\n",
    "# Nếu giá trị mặc định không có, sẽ raise KeyError\n",
    "d = {\"name\": \"Jack\", \"age\": 20}\n",
    "print(d)\n",
    "\n",
    "d.pop('name')\n",
    "d"
   ]
  },
  {
   "cell_type": "code",
   "execution_count": 28,
   "metadata": {},
   "outputs": [
    {
     "name": "stdout",
     "output_type": "stream",
     "text": [
      "{'name': 'Jack', 'age': 20}\n",
      "{'name': 'Jack', 'age': 20}\n",
      "{'name': 'Jack', 'age': 20, 'education': 'N/A'}\n"
     ]
    }
   ],
   "source": [
    "# Set default value cho một key nếu chưa tồn tại\n",
    "# Nếu đã tồn tại, không làm gì cả\n",
    "d = {\"name\": \"Jack\", \"age\": 20}\n",
    "print(d)\n",
    "\n",
    "d.setdefault(\"name\", \"N/A\")\n",
    "print(d)\n",
    "\n",
    "d.setdefault(\"education\", \"N/A\")\n",
    "print(d)"
   ]
  },
  {
   "cell_type": "code",
   "execution_count": 29,
   "metadata": {},
   "outputs": [
    {
     "data": {
      "text/plain": [
       "{'name': 'John', 'age': 20, 'education': 'N/A'}"
      ]
     },
     "execution_count": 29,
     "metadata": {},
     "output_type": "execute_result"
    }
   ],
   "source": [
    "# Update (inplace) dict với một dict khác\n",
    "# Value của key trùng sẽ bị ghi đè\n",
    "d['name'] = 'John'\n",
    "d\n"
   ]
  },
  {
   "cell_type": "markdown",
   "metadata": {},
   "source": [
    "### Dictview\n",
    "<li>Các đối tượng trả về từ phương thức như <code>d.keys()</code>, <code>d.values()</code>, <code>d.items()</code> là các <strong>view objects</strong>, nghĩa là khi đối tượng <code>d</code> thay đổi thì các view này cũng được update để phản ánh đúng trạng thái của <code>d</code>.</li>"
   ]
  },
  {
   "cell_type": "code",
   "execution_count": 30,
   "metadata": {},
   "outputs": [
    {
     "name": "stdout",
     "output_type": "stream",
     "text": [
      "{}\n",
      "dict_keys([])\n"
     ]
    }
   ],
   "source": [
    "# Ví dụ, khởi tạo dict và view tới keys\n",
    "d = {}\n",
    "d_keys = d.keys()\n",
    "\n",
    "print(d)\n",
    "print(d_keys)"
   ]
  },
  {
   "cell_type": "code",
   "execution_count": 31,
   "metadata": {},
   "outputs": [
    {
     "name": "stdout",
     "output_type": "stream",
     "text": [
      "{'name': 'Jack', 'age': 25}\n",
      "dict_keys(['name', 'age'])\n"
     ]
    }
   ],
   "source": [
    "# Update dict và theo dõi thay đổi\n",
    "d[\"name\"] = \"Jack\"\n",
    "d[\"age\"] = 25\n",
    "\n",
    "print(d)\n",
    "print(d_keys)"
   ]
  },
  {
   "cell_type": "markdown",
   "metadata": {},
   "source": [
    "\n",
    "<h2 id=\"2.-Kiểu-set\">5. Kiểu set<a class=\"anchor-link\" href=\"#2.-Kiểu-set\">¶</a></h2>\n"
   ]
  },
  {
   "cell_type": "markdown",
   "metadata": {},
   "source": [
    "### Tổng quan\n",
    "<li>Dùng để lưu collections của các phần tử immutable.</li>\n",
    "<li>Các phần tử của set là unique (không trùng nhau) và không có thứ tự.</li>\n",
    "<li>Có hai loại set là:<ul>\n",
    "<li><code>set</code>: mutable (tức có thể thêm/sửa/xóa phần tử).</li>\n",
    "<li><code>frozenset</code>: immutable (tức không thể thay đổi sau khi tạo).</li>\n",
    "</ul>\n",
    "</li>\n",
    "<li>set/frozenset tương tự list/tuple.</li>\n",
    "<li>Khởi tạo set dùng <code>{}</code> hoặc <code>set()</code>.</li>"
   ]
  },
  {
   "cell_type": "markdown",
   "metadata": {},
   "source": [
    "\n",
    "<h4 id=\"VD1:-Khởi-tạo-set\">VD1: Khởi tạo set<a class=\"anchor-link\" href=\"#VD1:-Khởi-tạo-set\">¶</a></h4>\n"
   ]
  },
  {
   "cell_type": "code",
   "execution_count": 32,
   "metadata": {},
   "outputs": [
    {
     "name": "stdout",
     "output_type": "stream",
     "text": [
      "{1, 2, 3}\n",
      "{1, 2, 3}\n"
     ]
    }
   ],
   "source": [
    "# Khởi tạo\n",
    "s = {1, 2, 3}\n",
    "print(s)\n",
    "\n",
    "s = set([1, 2, 3, 3, 3, 3])\n",
    "print(s)"
   ]
  },
  {
   "cell_type": "markdown",
   "metadata": {},
   "source": [
    "### Các-thao-tác-với-set\n",
    "<li><code>s1 | s2</code>: set union</li>\n",
    "<li><code>s2 &amp; s2</code>: set intersection</li>\n",
    "<li><code>s1 - s2</code>: set difference</li>\n",
    "<li><code>s1 &lt;= s2</code>: check if s1 is a subset of s2</li>\n",
    "<li><code>s1 &lt; s2</code>: check if s1 is a strict subset of s2</li>"
   ]
  },
  {
   "cell_type": "code",
   "execution_count": 34,
   "metadata": {},
   "outputs": [
    {
     "name": "stdout",
     "output_type": "stream",
     "text": [
      "{1, 2, 3, 4, 5}\n",
      "{0, 1, 2, 3}\n"
     ]
    }
   ],
   "source": [
    "# Khởi tạo\n",
    "s1 = {1, 2, 3, 4, 5}\n",
    "s2 = {0, 1, 2, 3}\n",
    "\n",
    "print(s1)\n",
    "print(s2)"
   ]
  },
  {
   "cell_type": "code",
   "execution_count": 35,
   "metadata": {},
   "outputs": [
    {
     "data": {
      "text/plain": [
       "{0, 1, 2, 3, 4, 5}"
      ]
     },
     "execution_count": 35,
     "metadata": {},
     "output_type": "execute_result"
    }
   ],
   "source": [
    "# Union\n",
    "s1 | s2"
   ]
  },
  {
   "cell_type": "code",
   "execution_count": 36,
   "metadata": {},
   "outputs": [
    {
     "data": {
      "text/plain": [
       "{1, 2, 3}"
      ]
     },
     "execution_count": 36,
     "metadata": {},
     "output_type": "execute_result"
    }
   ],
   "source": [
    "# Intersection\n",
    "s1 & s2"
   ]
  },
  {
   "cell_type": "code",
   "execution_count": 39,
   "metadata": {},
   "outputs": [
    {
     "data": {
      "text/plain": [
       "{4, 5}"
      ]
     },
     "execution_count": 39,
     "metadata": {},
     "output_type": "execute_result"
    }
   ],
   "source": [
    "# Difference\n",
    "s1 - s2"
   ]
  },
  {
   "cell_type": "code",
   "execution_count": 41,
   "metadata": {},
   "outputs": [
    {
     "data": {
      "text/plain": [
       "False"
      ]
     },
     "execution_count": 41,
     "metadata": {},
     "output_type": "execute_result"
    }
   ],
   "source": [
    "# Subset\n",
    "s1 < s2"
   ]
  },
  {
   "cell_type": "code",
   "execution_count": 42,
   "metadata": {},
   "outputs": [
    {
     "name": "stdout",
     "output_type": "stream",
     "text": [
      "False\n",
      "True\n"
     ]
    }
   ],
   "source": [
    "s2 = {1, 2, 3}\n",
    "s1 = {1, 2, 3}\n",
    "print(s1 < s2)\n",
    "print(s1 <= s2)"
   ]
  },
  {
   "cell_type": "code",
   "execution_count": null,
   "metadata": {},
   "outputs": [],
   "source": [
    "'''\n",
    "List 1: Lưu trữ tên các trường thông tin về khách hàng\n",
    "- Name\n",
    "- Age\n",
    "- Gender\n",
    "- Province\n",
    "List 2: Chứa giá trị của các trường thông tin ở list 1, và được nhập bởi khách hàng\n",
    "List 3: [' Nguyen_Van_A','30','F','Thanh pho HCM']\n",
    "Thực hiện các yêu cầu:\n",
    "- Chạy hàm trả kết quả: Có tất cả bao nhiêu trường thông tin?\n",
    "- In ra tên của trường thông tin đầu tiên ở list 1\n",
    "- Chạy hàm cho người dùng input để lấy các giá trị cho list 2\n",
    "- In ra tên của người dùng từ kết quả input\n",
    "- Tạo 1 dictionary lưu trữ thông tin khách hàng từ list 1 và list 2\n",
    "- Chạy hàm trả kết quả: Tuổi và tỉnh thành của khách hàng\n",
    "- Thêm một item trong dictionary lưu trữ số thứ tự khách hàng, gán value = 1\n",
    "- List 3: Xử lý khoảng trắng và gạch dưới, đổi số tuổi về dạng số nguyên, bỏ chữ 'Thanh pho' ra khỏi tên tên province\n",
    "- Tạo một dictionary từ list 1 và list 3\n",
    "- Thêm một item trong dictionary lưu trữ số thứ tự khách hàng, gán value = 2\n",
    "- In ra 2 dictionary\n",
    "'''"
   ]
  },
  {
   "cell_type": "code",
   "execution_count": null,
   "metadata": {},
   "outputs": [],
   "source": []
  }
 ],
 "metadata": {
  "kernelspec": {
   "display_name": "Python 3 (ipykernel)",
   "language": "python",
   "name": "python3"
  },
  "language_info": {
   "codemirror_mode": {
    "name": "ipython",
    "version": 3
   },
   "file_extension": ".py",
   "mimetype": "text/x-python",
   "name": "python",
   "nbconvert_exporter": "python",
   "pygments_lexer": "ipython3",
   "version": "3.11.7"
  },
  "toc": {
   "base_numbering": 1,
   "nav_menu": {},
   "number_sections": true,
   "sideBar": true,
   "skip_h1_title": false,
   "title_cell": "Table of Contents",
   "title_sidebar": "Contents",
   "toc_cell": false,
   "toc_position": {},
   "toc_section_display": true,
   "toc_window_display": true
  }
 },
 "nbformat": 4,
 "nbformat_minor": 4
}
